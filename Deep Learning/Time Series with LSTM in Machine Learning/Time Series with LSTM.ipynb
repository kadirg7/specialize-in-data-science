{
 "cells": [
  {
   "cell_type": "markdown",
   "id": "628bcc8a-3150-48fb-ba2f-3f9a727a11ab",
   "metadata": {},
   "source": [
    "# Time Series with LSTM in Machine Learning  \n",
    "\n",
    "## Project Goal  \n",
    "In this project, we aim to use past time series data to predict future values with **LSTM**. This helps support forward-looking decisions in areas such as production, finance, and demand planning.  \n",
    "\n",
    "## Time Series  \n",
    "Time series is a set of data recorded in sequence over time (e.g., daily temperature, monthly sales).  \n",
    "👉 Simply: **A method of predicting the future by looking at the past.**  \n",
    "\n",
    "## LSTM  \n",
    "LSTM (Long Short-Term Memory) is a special type of neural network that can remember long-term dependencies.  \n",
    "👉 Simply: **A model that predicts the future without forgetting past information.**  \n",
    "\n",
    "\n",
    "[Time Series with LSTM in Machine Learning](https://amanxai.com/2020/08/29/time-series-with-lstm-in-machine-learning/)"
   ]
  },
  {
   "cell_type": "code",
   "execution_count": 1,
   "id": "678d6f53-a16a-4901-8588-5a166dc7ee48",
   "metadata": {},
   "outputs": [],
   "source": [
    "import numpy\n",
    "import matplotlib.pyplot as plt\n",
    "import pandas\n",
    "import math\n",
    "from keras.models import Sequential\n",
    "from keras.layers import Dense\n",
    "from keras.layers import LSTM\n",
    "from sklearn.preprocessing import MinMaxScaler\n",
    "from sklearn.metrics import mean_squared_error"
   ]
  },
  {
   "cell_type": "code",
   "execution_count": 2,
   "id": "af53d9c9-93ea-4c80-8cbc-13c91b1fa14f",
   "metadata": {},
   "outputs": [],
   "source": [
    "# fix random seed for reproducibility\n",
    "numpy.random.seed(7)\n",
    "# Sonuçların tekrarlanabilir olması için rastgele tohum (seed) sabitleniyor.”\n",
    "# Yani, aynı kodu tekrar çalıştırdığında her seferinde farklı sonuçlar almak yerine aynı sonuçları elde edersin."
   ]
  },
  {
   "cell_type": "code",
   "execution_count": 34,
   "id": "e4a39455-da56-4b0e-84eb-855613044387",
   "metadata": {},
   "outputs": [],
   "source": [
    "dataframe = pandas.read_csv('airline-passengers.csv', usecols=[1], engine='python')\n",
    "# usecols=[1]   → CSV dosyasındaki sadece 2. sütunu (index=1) oku\n",
    "# engine='python' → Dosyayı okurken Python motorunu kullan (daha esnek ama biraz daha yavaş)"
   ]
  },
  {
   "cell_type": "code",
   "execution_count": 35,
   "id": "99f01f38-b503-4b96-8409-0e4df2dbcb76",
   "metadata": {},
   "outputs": [],
   "source": [
    "dataset = dataframe.values"
   ]
  },
  {
   "cell_type": "code",
   "execution_count": 36,
   "id": "a865b232-2064-4143-b2c0-60a0ac8d53e7",
   "metadata": {},
   "outputs": [],
   "source": [
    "dataset = dataset.astype('float32')"
   ]
  },
  {
   "cell_type": "code",
   "execution_count": 37,
   "id": "90e84c15-6de6-4912-be28-360a161a0771",
   "metadata": {},
   "outputs": [],
   "source": [
    "scaler = MinMaxScaler(feature_range=(0, 1))"
   ]
  },
  {
   "cell_type": "code",
   "execution_count": 38,
   "id": "54982010-3aa5-4cb9-ae8e-81cfb04c6cec",
   "metadata": {},
   "outputs": [],
   "source": [
    "dataset = scaler.fit_transform(dataset)"
   ]
  },
  {
   "cell_type": "code",
   "execution_count": 39,
   "id": "3f6e1277-3cbb-4aad-879d-dc0a7ea45510",
   "metadata": {},
   "outputs": [],
   "source": [
    "train_size = int(len(dataset) * 0.67) # Verinin %67'sini eğitim için ayır\n",
    "test_size = len(dataset) - train_size  # Kalan %33'ü test için ayır"
   ]
  },
  {
   "cell_type": "code",
   "execution_count": 40,
   "id": "8570ad4f-5d7b-4f92-977c-b0e385e3f229",
   "metadata": {},
   "outputs": [],
   "source": [
    "train, test = dataset[0:train_size,:], dataset[train_size:len(dataset),:] \n",
    "# # Veriyi train ve test olarak ikiye böl"
   ]
  },
  {
   "cell_type": "code",
   "execution_count": 41,
   "id": "a2cd2d58-32d8-42a8-b000-05fbaea429e2",
   "metadata": {},
   "outputs": [
    {
     "name": "stdout",
     "output_type": "stream",
     "text": [
      "96 48\n"
     ]
    }
   ],
   "source": [
    "print(len(train), len(test)) # Eğitim ve test setleri sayısı "
   ]
  },
  {
   "cell_type": "markdown",
   "id": "68d999d6-9cd5-4183-add5-3cd9ea945fa2",
   "metadata": {},
   "source": [
    "## Time Series with LSTM"
   ]
  },
  {
   "cell_type": "code",
   "execution_count": 42,
   "id": "87864972-b7ec-4e10-91b3-c4039656b2f2",
   "metadata": {},
   "outputs": [],
   "source": [
    "def create_dataset(dataset, look_back=1):\n",
    "    dataX, dataY = [], []                     # Boş X (girdiler) ve y (çıktılar) listeleri\n",
    "    for i in range(len(dataset) - look_back - 1):   # Her adımda bir pencere kaydır\n",
    "        a = dataset[i:(i + look_back), 0]     # i..i+look_back-1 arasındaki değerler → X\n",
    "        dataX.append(a)\n",
    "        dataY.append(dataset[i + look_back, 0])# Pencerenin hemen sonrası tek değer → y (hedef)\n",
    "    return numpy.array(dataX), numpy.array(dataY)   # Listeleri numpy dizisine çevir"
   ]
  },
  {
   "cell_type": "code",
   "execution_count": 43,
   "id": "32773648-1e94-4f21-8c60-292cfd64300a",
   "metadata": {},
   "outputs": [],
   "source": [
    "# reshape into X=t and Y=t+1\n",
    "look_back = 1                     # Kaç geçmiş adımı girdi olarak kullanacağız (pencere boyu)\n",
    "\n",
    "trainX, trainY = create_dataset(train, look_back)  # Train verisinden (X, y) çiftleri üret\n",
    "testX, testY   = create_dataset(test,  look_back)  # Test verisinden (X, y) çiftleri üret\n",
    "\n",
    "# reshape input to be [samples, time steps, features]\n",
    "trainX = numpy.reshape(trainX, (trainX.shape[0], 1, trainX.shape[1]))\n",
    "# LSTM giriş şekli: (örnek_sayısı, zaman_adımı, özellik_sayısı)\n",
    "# burada: zaman_adımı=1 (look_back tek boyut olarak üçüncü eksene taşınıyor), özellik_sayısı=look_back\n",
    "\n",
    "testX  = numpy.reshape(testX,  (testX.shape[0],  1, testX.shape[1]))\n",
    "# test verisi için de aynı 3D şekle dönüştürme (samples, timesteps=1, features=look_back)"
   ]
  },
  {
   "cell_type": "code",
   "execution_count": 44,
   "id": "0fd213c3-3745-415a-b657-212f7d9888e2",
   "metadata": {},
   "outputs": [
    {
     "name": "stdout",
     "output_type": "stream",
     "text": [
      "Epoch 1/100\n"
     ]
    },
    {
     "name": "stderr",
     "output_type": "stream",
     "text": [
      "C:\\Users\\asus\\anaconda3\\Lib\\site-packages\\keras\\src\\layers\\rnn\\rnn.py:199: UserWarning: Do not pass an `input_shape`/`input_dim` argument to a layer. When using Sequential models, prefer using an `Input(shape)` object as the first layer in the model instead.\n",
      "  super().__init__(**kwargs)\n"
     ]
    },
    {
     "name": "stdout",
     "output_type": "stream",
     "text": [
      "94/94 - 1s - 12ms/step - loss: 0.0366\n",
      "Epoch 2/100\n",
      "94/94 - 0s - 1ms/step - loss: 0.0171\n",
      "Epoch 3/100\n",
      "94/94 - 0s - 1ms/step - loss: 0.0129\n",
      "Epoch 4/100\n",
      "94/94 - 0s - 1ms/step - loss: 0.0118\n",
      "Epoch 5/100\n",
      "94/94 - 0s - 2ms/step - loss: 0.0110\n",
      "Epoch 6/100\n",
      "94/94 - 0s - 1ms/step - loss: 0.0100\n",
      "Epoch 7/100\n",
      "94/94 - 0s - 1ms/step - loss: 0.0090\n",
      "Epoch 8/100\n",
      "94/94 - 0s - 1ms/step - loss: 0.0082\n",
      "Epoch 9/100\n",
      "94/94 - 0s - 1ms/step - loss: 0.0073\n",
      "Epoch 10/100\n",
      "94/94 - 0s - 1ms/step - loss: 0.0063\n",
      "Epoch 11/100\n",
      "94/94 - 0s - 1ms/step - loss: 0.0056\n",
      "Epoch 12/100\n",
      "94/94 - 0s - 2ms/step - loss: 0.0048\n",
      "Epoch 13/100\n",
      "94/94 - 0s - 1ms/step - loss: 0.0041\n",
      "Epoch 14/100\n",
      "94/94 - 0s - 1ms/step - loss: 0.0035\n",
      "Epoch 15/100\n",
      "94/94 - 0s - 1ms/step - loss: 0.0032\n",
      "Epoch 16/100\n",
      "94/94 - 0s - 1ms/step - loss: 0.0028\n",
      "Epoch 17/100\n",
      "94/94 - 0s - 1ms/step - loss: 0.0025\n",
      "Epoch 18/100\n",
      "94/94 - 0s - 1ms/step - loss: 0.0024\n",
      "Epoch 19/100\n",
      "94/94 - 0s - 1ms/step - loss: 0.0022\n",
      "Epoch 20/100\n",
      "94/94 - 0s - 1ms/step - loss: 0.0022\n",
      "Epoch 21/100\n",
      "94/94 - 0s - 1ms/step - loss: 0.0021\n",
      "Epoch 22/100\n",
      "94/94 - 0s - 1ms/step - loss: 0.0021\n",
      "Epoch 23/100\n",
      "94/94 - 0s - 1ms/step - loss: 0.0020\n",
      "Epoch 24/100\n",
      "94/94 - 0s - 1ms/step - loss: 0.0020\n",
      "Epoch 25/100\n",
      "94/94 - 0s - 1ms/step - loss: 0.0020\n",
      "Epoch 26/100\n",
      "94/94 - 0s - 2ms/step - loss: 0.0021\n",
      "Epoch 27/100\n",
      "94/94 - 0s - 1ms/step - loss: 0.0020\n",
      "Epoch 28/100\n",
      "94/94 - 0s - 1ms/step - loss: 0.0021\n",
      "Epoch 29/100\n",
      "94/94 - 0s - 1ms/step - loss: 0.0021\n",
      "Epoch 30/100\n",
      "94/94 - 0s - 1ms/step - loss: 0.0020\n",
      "Epoch 31/100\n",
      "94/94 - 0s - 1ms/step - loss: 0.0020\n",
      "Epoch 32/100\n",
      "94/94 - 0s - 1ms/step - loss: 0.0020\n",
      "Epoch 33/100\n",
      "94/94 - 0s - 1ms/step - loss: 0.0020\n",
      "Epoch 34/100\n",
      "94/94 - 0s - 1ms/step - loss: 0.0020\n",
      "Epoch 35/100\n",
      "94/94 - 0s - 1ms/step - loss: 0.0020\n",
      "Epoch 36/100\n",
      "94/94 - 0s - 1ms/step - loss: 0.0020\n",
      "Epoch 37/100\n",
      "94/94 - 0s - 2ms/step - loss: 0.0021\n",
      "Epoch 38/100\n",
      "94/94 - 0s - 2ms/step - loss: 0.0020\n",
      "Epoch 39/100\n",
      "94/94 - 0s - 2ms/step - loss: 0.0020\n",
      "Epoch 40/100\n",
      "94/94 - 0s - 1ms/step - loss: 0.0020\n",
      "Epoch 41/100\n",
      "94/94 - 0s - 1ms/step - loss: 0.0020\n",
      "Epoch 42/100\n",
      "94/94 - 0s - 1ms/step - loss: 0.0021\n",
      "Epoch 43/100\n",
      "94/94 - 0s - 1ms/step - loss: 0.0020\n",
      "Epoch 44/100\n",
      "94/94 - 0s - 2ms/step - loss: 0.0020\n",
      "Epoch 45/100\n",
      "94/94 - 0s - 1ms/step - loss: 0.0020\n",
      "Epoch 46/100\n",
      "94/94 - 0s - 1ms/step - loss: 0.0019\n",
      "Epoch 47/100\n",
      "94/94 - 0s - 1ms/step - loss: 0.0021\n",
      "Epoch 48/100\n",
      "94/94 - 0s - 1ms/step - loss: 0.0020\n",
      "Epoch 49/100\n",
      "94/94 - 0s - 1ms/step - loss: 0.0020\n",
      "Epoch 50/100\n",
      "94/94 - 0s - 1ms/step - loss: 0.0020\n",
      "Epoch 51/100\n",
      "94/94 - 0s - 1ms/step - loss: 0.0020\n",
      "Epoch 52/100\n",
      "94/94 - 0s - 1ms/step - loss: 0.0020\n",
      "Epoch 53/100\n",
      "94/94 - 0s - 1ms/step - loss: 0.0020\n",
      "Epoch 54/100\n",
      "94/94 - 0s - 2ms/step - loss: 0.0021\n",
      "Epoch 55/100\n",
      "94/94 - 0s - 1ms/step - loss: 0.0021\n",
      "Epoch 56/100\n",
      "94/94 - 0s - 1ms/step - loss: 0.0020\n",
      "Epoch 57/100\n",
      "94/94 - 0s - 1ms/step - loss: 0.0021\n",
      "Epoch 58/100\n",
      "94/94 - 0s - 1ms/step - loss: 0.0020\n",
      "Epoch 59/100\n",
      "94/94 - 0s - 2ms/step - loss: 0.0020\n",
      "Epoch 60/100\n",
      "94/94 - 0s - 1ms/step - loss: 0.0021\n",
      "Epoch 61/100\n",
      "94/94 - 0s - 1ms/step - loss: 0.0020\n",
      "Epoch 62/100\n",
      "94/94 - 0s - 1ms/step - loss: 0.0020\n",
      "Epoch 63/100\n",
      "94/94 - 0s - 1ms/step - loss: 0.0020\n",
      "Epoch 64/100\n",
      "94/94 - 0s - 1ms/step - loss: 0.0020\n",
      "Epoch 65/100\n",
      "94/94 - 0s - 1ms/step - loss: 0.0020\n",
      "Epoch 66/100\n",
      "94/94 - 0s - 1ms/step - loss: 0.0021\n",
      "Epoch 67/100\n",
      "94/94 - 0s - 1ms/step - loss: 0.0021\n",
      "Epoch 68/100\n",
      "94/94 - 0s - 1ms/step - loss: 0.0021\n",
      "Epoch 69/100\n",
      "94/94 - 0s - 1ms/step - loss: 0.0021\n",
      "Epoch 70/100\n",
      "94/94 - 0s - 1ms/step - loss: 0.0020\n",
      "Epoch 71/100\n",
      "94/94 - 0s - 1ms/step - loss: 0.0020\n",
      "Epoch 72/100\n",
      "94/94 - 0s - 1ms/step - loss: 0.0020\n",
      "Epoch 73/100\n",
      "94/94 - 0s - 1ms/step - loss: 0.0020\n",
      "Epoch 74/100\n",
      "94/94 - 0s - 1ms/step - loss: 0.0020\n",
      "Epoch 75/100\n",
      "94/94 - 0s - 1ms/step - loss: 0.0020\n",
      "Epoch 76/100\n",
      "94/94 - 0s - 1ms/step - loss: 0.0020\n",
      "Epoch 77/100\n",
      "94/94 - 0s - 1ms/step - loss: 0.0021\n",
      "Epoch 78/100\n",
      "94/94 - 0s - 1ms/step - loss: 0.0020\n",
      "Epoch 79/100\n",
      "94/94 - 0s - 1ms/step - loss: 0.0020\n",
      "Epoch 80/100\n",
      "94/94 - 0s - 2ms/step - loss: 0.0020\n",
      "Epoch 81/100\n",
      "94/94 - 0s - 1ms/step - loss: 0.0020\n",
      "Epoch 82/100\n",
      "94/94 - 0s - 1ms/step - loss: 0.0020\n",
      "Epoch 83/100\n",
      "94/94 - 0s - 1ms/step - loss: 0.0020\n",
      "Epoch 84/100\n",
      "94/94 - 0s - 1ms/step - loss: 0.0020\n",
      "Epoch 85/100\n",
      "94/94 - 0s - 1ms/step - loss: 0.0020\n",
      "Epoch 86/100\n",
      "94/94 - 0s - 1ms/step - loss: 0.0020\n",
      "Epoch 87/100\n",
      "94/94 - 0s - 1ms/step - loss: 0.0020\n",
      "Epoch 88/100\n",
      "94/94 - 0s - 1ms/step - loss: 0.0020\n",
      "Epoch 89/100\n",
      "94/94 - 0s - 1ms/step - loss: 0.0020\n",
      "Epoch 90/100\n",
      "94/94 - 0s - 1ms/step - loss: 0.0021\n",
      "Epoch 91/100\n",
      "94/94 - 0s - 1ms/step - loss: 0.0020\n",
      "Epoch 92/100\n",
      "94/94 - 0s - 1ms/step - loss: 0.0020\n",
      "Epoch 93/100\n",
      "94/94 - 0s - 1ms/step - loss: 0.0020\n",
      "Epoch 94/100\n",
      "94/94 - 0s - 1ms/step - loss: 0.0020\n",
      "Epoch 95/100\n",
      "94/94 - 0s - 1ms/step - loss: 0.0020\n",
      "Epoch 96/100\n",
      "94/94 - 0s - 1ms/step - loss: 0.0021\n",
      "Epoch 97/100\n",
      "94/94 - 0s - 1ms/step - loss: 0.0021\n",
      "Epoch 98/100\n",
      "94/94 - 0s - 2ms/step - loss: 0.0019\n",
      "Epoch 99/100\n",
      "94/94 - 0s - 1ms/step - loss: 0.0020\n",
      "Epoch 100/100\n",
      "94/94 - 0s - 1ms/step - loss: 0.0021\n"
     ]
    },
    {
     "data": {
      "text/plain": [
       "<keras.src.callbacks.history.History at 0x29854b7de20>"
      ]
     },
     "execution_count": 44,
     "metadata": {},
     "output_type": "execute_result"
    }
   ],
   "source": [
    "model = Sequential()\n",
    "model.add(LSTM(4, input_shape=(1, look_back)))\n",
    "model.add(Dense(1))\n",
    "model.compile(loss='mean_squared_error', optimizer='adam')\n",
    "model.fit(trainX, trainY, epochs=100, batch_size=1, verbose=2)"
   ]
  },
  {
   "cell_type": "code",
   "execution_count": 45,
   "id": "fd5b9417-9da3-4898-835a-f53ce9ddc666",
   "metadata": {},
   "outputs": [
    {
     "name": "stdout",
     "output_type": "stream",
     "text": [
      "\u001b[1m3/3\u001b[0m \u001b[32m━━━━━━━━━━━━━━━━━━━━\u001b[0m\u001b[37m\u001b[0m \u001b[1m0s\u001b[0m 61ms/step \n"
     ]
    }
   ],
   "source": [
    "trainPredict = model.predict(trainX)"
   ]
  },
  {
   "cell_type": "code",
   "execution_count": 46,
   "id": "dd21ede5-1122-4413-a7e5-f94d0ac7ce44",
   "metadata": {},
   "outputs": [
    {
     "name": "stdout",
     "output_type": "stream",
     "text": [
      "\u001b[1m2/2\u001b[0m \u001b[32m━━━━━━━━━━━━━━━━━━━━\u001b[0m\u001b[37m\u001b[0m \u001b[1m0s\u001b[0m 16ms/step\n"
     ]
    }
   ],
   "source": [
    "testPredict = model.predict(testX)"
   ]
  },
  {
   "cell_type": "code",
   "execution_count": 47,
   "id": "ef034969-34ab-4921-b2eb-0d610e6506f6",
   "metadata": {},
   "outputs": [],
   "source": [
    "# invert predictions"
   ]
  },
  {
   "cell_type": "code",
   "execution_count": 48,
   "id": "b5a087f8-9f99-4440-bf36-1c9161da61af",
   "metadata": {},
   "outputs": [],
   "source": [
    "trainPredict = scaler.inverse_transform(trainPredict) # Modelin train için ürettiği tahminleri 0–1 aralığından gerçek skalasına döndürür."
   ]
  },
  {
   "cell_type": "code",
   "execution_count": 49,
   "id": "66cbc879-c00b-48c0-a0eb-e720e153de6c",
   "metadata": {},
   "outputs": [],
   "source": [
    "trainY = scaler.inverse_transform([trainY])  # Train’in gerçek hedef değerlerini (y) orijinal skala’ya çevirir."
   ]
  },
  {
   "cell_type": "code",
   "execution_count": 50,
   "id": "d5bb2f5c-b389-41ee-a6ac-e61f8a034d46",
   "metadata": {},
   "outputs": [],
   "source": [
    "testPredict = scaler.inverse_transform(testPredict)"
   ]
  },
  {
   "cell_type": "code",
   "execution_count": 51,
   "id": "1cea4955-0479-474e-9ebf-829f6134415a",
   "metadata": {},
   "outputs": [],
   "source": [
    "testY = scaler.inverse_transform([testY])"
   ]
  },
  {
   "cell_type": "code",
   "execution_count": 52,
   "id": "d0bc5129-ef6b-4384-9cfd-950187415464",
   "metadata": {},
   "outputs": [],
   "source": [
    "trainScore = math.sqrt(mean_squared_error(trainY[0], trainPredict[:,0]))"
   ]
  },
  {
   "cell_type": "code",
   "execution_count": 53,
   "id": "c9fd728f-6da7-4896-b097-1b29bde8445b",
   "metadata": {},
   "outputs": [],
   "source": [
    "testScore = math.sqrt(mean_squared_error(testY[0], testPredict[:,0]))"
   ]
  },
  {
   "cell_type": "code",
   "execution_count": 54,
   "id": "4110efb9-3b29-4cec-8767-9e24f3b6f3e5",
   "metadata": {},
   "outputs": [],
   "source": [
    "# plot için tahmin -  train \n",
    "trainPredictPlot = numpy.empty_like(dataset)\n",
    "trainPredictPlot[:, :] = numpy.nan\n",
    "trainPredictPlot[look_back:len(trainPredict)+look_back, :] = trainPredict"
   ]
  },
  {
   "cell_type": "code",
   "execution_count": 55,
   "id": "8986f040-2612-4e4f-b0e0-95602a38a7ac",
   "metadata": {},
   "outputs": [],
   "source": [
    "#  plot için tahmin -  test \n",
    "testPredictPlot = numpy.empty_like(dataset)\n",
    "testPredictPlot[:, :] = numpy.nan\n",
    "testPredictPlot[len(trainPredict)+(look_back*2)+1:len(dataset)-1, :] = testPredict"
   ]
  },
  {
   "cell_type": "code",
   "execution_count": 56,
   "id": "c925f946-3dd1-4672-b692-baad7a958c7c",
   "metadata": {},
   "outputs": [
    {
     "data": {
      "image/png": "[encoded data removed]",
      "text/plain": [
       "<Figure size 640x480 with 1 Axes>"
      ]
     },
     "metadata": {},
     "output_type": "display_data"
    }
   ],
   "source": [
    "plt.plot(scaler.inverse_transform(dataset))\n",
    "plt.plot(trainPredictPlot)\n",
    "plt.plot(testPredictPlot)\n",
    "plt.show()"
   ]
  },
  {
   "cell_type": "markdown",
   "id": "392a2bfe-91cd-4c6c-b101-abd2c5341512",
   "metadata": {},
   "source": [
    "## Conclusion\n",
    "The LSTM captured trend and seasonality well to forecast future values; accuracy can improve further with a larger look_back and tuned hyperparameters."
   ]
  },
  {
   "cell_type": "code",
   "execution_count": null,
   "id": "2ba10511-4243-4088-9b3b-00beee2a8f29",
   "metadata": {},
   "outputs": [],
   "source": []
  }
 ],
 "metadata": {
  "kernelspec": {
   "display_name": "Python 3 (ipykernel)",
   "language": "python",
   "name": "python3"
  },
  "language_info": {
   "codemirror_mode": {
    "name": "ipython",
    "version": 3
   },
   "file_extension": ".py",
   "mimetype": "text/x-python",
   "name": "python",
   "nbconvert_exporter": "python",
   "pygments_lexer": "ipython3",
   "version": "3.12.11"
  }
 },
 "nbformat": 4,
 "nbformat_minor": 5
}
