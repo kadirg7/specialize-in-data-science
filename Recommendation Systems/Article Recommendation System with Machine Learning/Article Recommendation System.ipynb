{
 "cells": [
  {
   "cell_type": "markdown",
   "id": "6b7f98b0-ad16-4bbc-aa9d-83a9fd3d1f3b",
   "metadata": {},
   "source": [
    "# Article Recommendation System \n",
    "\n",
    "In this project, we will develop a content-based article recommendation system by analyzing article content using text similarity (cosine similarity).\n",
    "\n",
    "[Article Recommendation System with Machine Learning](https://amanxai.com/2021/11/10/article-recommendation-system-with-machine-learning/)\n",
    "\n",
    "[Cosine Similarity](https://amanxai.com/2021/02/27/cosine-similarity-in-machine-learning/)"
   ]
  },
  {
   "cell_type": "code",
   "execution_count": 1,
   "id": "0946ed5e-6eaa-4223-a8d2-b036e9a4ffe6",
   "metadata": {},
   "outputs": [],
   "source": [
    "import pandas as pd"
   ]
  },
  {
   "cell_type": "code",
   "execution_count": 10,
   "id": "a2275663-aa3d-4ae0-a9cd-e734fcb89ddf",
   "metadata": {},
   "outputs": [],
   "source": [
    "df = pd.read_csv(\"https://raw.githubusercontent.com/amankharwal/Website-data/master/articles.csv\", encoding='latin1')"
   ]
  },
  {
   "cell_type": "code",
   "execution_count": 11,
   "id": "770a1b95-150d-4957-99af-d912c9a49da4",
   "metadata": {},
   "outputs": [
    {
     "data": {
      "text/html": [
       "<div>\n",
       "<style scoped>\n",
       "    .dataframe tbody tr th:only-of-type {\n",
       "        vertical-align: middle;\n",
       "    }\n",
       "\n",
       "    .dataframe tbody tr th {\n",
       "        vertical-align: top;\n",
       "    }\n",
       "\n",
       "    .dataframe thead th {\n",
       "        text-align: right;\n",
       "    }\n",
       "</style>\n",
       "<table border=\"1\" class=\"dataframe\">\n",
       "  <thead>\n",
       "    <tr style=\"text-align: right;\">\n",
       "      <th></th>\n",
       "      <th>Article</th>\n",
       "      <th>Title</th>\n",
       "    </tr>\n",
       "  </thead>\n",
       "  <tbody>\n",
       "    <tr>\n",
       "      <th>0</th>\n",
       "      <td>Data analysis is the process of inspecting and...</td>\n",
       "      <td>Best Books to Learn Data Analysis</td>\n",
       "    </tr>\n",
       "    <tr>\n",
       "      <th>1</th>\n",
       "      <td>The performance of a machine learning algorith...</td>\n",
       "      <td>Assumptions of Machine Learning Algorithms</td>\n",
       "    </tr>\n",
       "    <tr>\n",
       "      <th>2</th>\n",
       "      <td>You must have seen the news divided into categ...</td>\n",
       "      <td>News Classification with Machine Learning</td>\n",
       "    </tr>\n",
       "    <tr>\n",
       "      <th>3</th>\n",
       "      <td>When there are only two classes in a classific...</td>\n",
       "      <td>Multiclass Classification Algorithms in Machin...</td>\n",
       "    </tr>\n",
       "    <tr>\n",
       "      <th>4</th>\n",
       "      <td>The Multinomial Naive Bayes is one of the vari...</td>\n",
       "      <td>Multinomial Naive Bayes in Machine Learning</td>\n",
       "    </tr>\n",
       "  </tbody>\n",
       "</table>\n",
       "</div>"
      ],
      "text/plain": [
       "                                             Article  \\\n",
       "0  Data analysis is the process of inspecting and...   \n",
       "1  The performance of a machine learning algorith...   \n",
       "2  You must have seen the news divided into categ...   \n",
       "3  When there are only two classes in a classific...   \n",
       "4  The Multinomial Naive Bayes is one of the vari...   \n",
       "\n",
       "                                               Title  \n",
       "0                  Best Books to Learn Data Analysis  \n",
       "1         Assumptions of Machine Learning Algorithms  \n",
       "2          News Classification with Machine Learning  \n",
       "3  Multiclass Classification Algorithms in Machin...  \n",
       "4        Multinomial Naive Bayes in Machine Learning  "
      ]
     },
     "execution_count": 11,
     "metadata": {},
     "output_type": "execute_result"
    }
   ],
   "source": [
    "df.head()"
   ]
  },
  {
   "cell_type": "code",
   "execution_count": 12,
   "id": "45b30a7b-57bf-47f2-a46a-34537c532098",
   "metadata": {},
   "outputs": [
    {
     "data": {
      "text/plain": [
       "(34, 2)"
      ]
     },
     "execution_count": 12,
     "metadata": {},
     "output_type": "execute_result"
    }
   ],
   "source": [
    "df.shape"
   ]
  },
  {
   "cell_type": "code",
   "execution_count": 13,
   "id": "4a72a41d-cc11-47f1-ae58-f6858692d3eb",
   "metadata": {},
   "outputs": [],
   "source": [
    "from sklearn.feature_extraction import text\n",
    "from sklearn.metrics.pairwise import cosine_similarity"
   ]
  },
  {
   "cell_type": "code",
   "execution_count": 14,
   "id": "f1b6f5db-3792-4bdd-a1b9-9ec79f12b84e",
   "metadata": {},
   "outputs": [],
   "source": [
    "articles = df[\"Article\"].tolist()  \n",
    "# df içindeki \"Article\" sütununu  Python listesine çeviriyor "
   ]
  },
  {
   "cell_type": "code",
   "execution_count": 15,
   "id": "5092430d-8827-4cc5-993f-6a659e146d12",
   "metadata": {},
   "outputs": [],
   "source": [
    "uni_tfidf = text.TfidfVectorizer(stop_words=\"english\")  # stop wordler atılıyor (the , is gibi)"
   ]
  },
  {
   "cell_type": "code",
   "execution_count": 16,
   "id": "c19a2edd-cfcb-409e-a6cc-16f9d504ccd8",
   "metadata": {},
   "outputs": [],
   "source": [
    "uni_matrix = uni_tfidf.fit_transform(articles)"
   ]
  },
  {
   "cell_type": "code",
   "execution_count": 17,
   "id": "a9b19f1b-b28a-4ec6-ac83-2b3f42c293f8",
   "metadata": {},
   "outputs": [],
   "source": [
    "uni_sim = cosine_similarity(uni_matrix) # TF-IDF vektörleri arasındaki kosinüs benzerliğini hesaplıyorsun."
   ]
  },
  {
   "cell_type": "code",
   "execution_count": 21,
   "id": "9d61e034-248e-4fb1-b9ac-80b6cbc3853a",
   "metadata": {},
   "outputs": [],
   "source": [
    "def recommend_articles(x):\n",
    "    return \", \".join(df[\"Title\"].loc[x.argsort()[-5:-1]])\n",
    "# Benzerlik vektörü x içinden en bnzer başlıkları seçip virgülle birleştirerel döndürür . "
   ]
  },
  {
   "cell_type": "code",
   "execution_count": 22,
   "id": "c51a4072-2dab-4110-b2a5-e2cf664a7d30",
   "metadata": {},
   "outputs": [],
   "source": [
    "df[\"Recommended Articles\"] = [recommend_articles(x) for x in uni_sim]  \n",
    "# Benzer makaleleri hesaplayıp tek bir metin olarak yeni sütuna yazar "
   ]
  },
  {
   "cell_type": "code",
   "execution_count": 23,
   "id": "0d91a0a3-8391-4063-9326-bd82aecfdc53",
   "metadata": {},
   "outputs": [
    {
     "data": {
      "text/html": [
       "<div>\n",
       "<style scoped>\n",
       "    .dataframe tbody tr th:only-of-type {\n",
       "        vertical-align: middle;\n",
       "    }\n",
       "\n",
       "    .dataframe tbody tr th {\n",
       "        vertical-align: top;\n",
       "    }\n",
       "\n",
       "    .dataframe thead th {\n",
       "        text-align: right;\n",
       "    }\n",
       "</style>\n",
       "<table border=\"1\" class=\"dataframe\">\n",
       "  <thead>\n",
       "    <tr style=\"text-align: right;\">\n",
       "      <th></th>\n",
       "      <th>Article</th>\n",
       "      <th>Title</th>\n",
       "      <th>Recommended Articles</th>\n",
       "    </tr>\n",
       "  </thead>\n",
       "  <tbody>\n",
       "    <tr>\n",
       "      <th>0</th>\n",
       "      <td>Data analysis is the process of inspecting and...</td>\n",
       "      <td>Best Books to Learn Data Analysis</td>\n",
       "      <td>Introduction to Recommendation Systems, Best B...</td>\n",
       "    </tr>\n",
       "    <tr>\n",
       "      <th>1</th>\n",
       "      <td>The performance of a machine learning algorith...</td>\n",
       "      <td>Assumptions of Machine Learning Algorithms</td>\n",
       "      <td>Applications of Deep Learning, Best Books to L...</td>\n",
       "    </tr>\n",
       "    <tr>\n",
       "      <th>2</th>\n",
       "      <td>You must have seen the news divided into categ...</td>\n",
       "      <td>News Classification with Machine Learning</td>\n",
       "      <td>Language Detection with Machine Learning, Appl...</td>\n",
       "    </tr>\n",
       "    <tr>\n",
       "      <th>3</th>\n",
       "      <td>When there are only two classes in a classific...</td>\n",
       "      <td>Multiclass Classification Algorithms in Machin...</td>\n",
       "      <td>Assumptions of Machine Learning Algorithms, Be...</td>\n",
       "    </tr>\n",
       "    <tr>\n",
       "      <th>4</th>\n",
       "      <td>The Multinomial Naive Bayes is one of the vari...</td>\n",
       "      <td>Multinomial Naive Bayes in Machine Learning</td>\n",
       "      <td>Assumptions of Machine Learning Algorithms, Me...</td>\n",
       "    </tr>\n",
       "  </tbody>\n",
       "</table>\n",
       "</div>"
      ],
      "text/plain": [
       "                                             Article  \\\n",
       "0  Data analysis is the process of inspecting and...   \n",
       "1  The performance of a machine learning algorith...   \n",
       "2  You must have seen the news divided into categ...   \n",
       "3  When there are only two classes in a classific...   \n",
       "4  The Multinomial Naive Bayes is one of the vari...   \n",
       "\n",
       "                                               Title  \\\n",
       "0                  Best Books to Learn Data Analysis   \n",
       "1         Assumptions of Machine Learning Algorithms   \n",
       "2          News Classification with Machine Learning   \n",
       "3  Multiclass Classification Algorithms in Machin...   \n",
       "4        Multinomial Naive Bayes in Machine Learning   \n",
       "\n",
       "                                Recommended Articles  \n",
       "0  Introduction to Recommendation Systems, Best B...  \n",
       "1  Applications of Deep Learning, Best Books to L...  \n",
       "2  Language Detection with Machine Learning, Appl...  \n",
       "3  Assumptions of Machine Learning Algorithms, Be...  \n",
       "4  Assumptions of Machine Learning Algorithms, Me...  "
      ]
     },
     "execution_count": 23,
     "metadata": {},
     "output_type": "execute_result"
    }
   ],
   "source": [
    "df.head()"
   ]
  },
  {
   "cell_type": "code",
   "execution_count": 26,
   "id": "1386cc80-db71-4ddb-b86b-633d829c268f",
   "metadata": {},
   "outputs": [
    {
     "data": {
      "text/plain": [
       "\"Agglomerative clustering is based on hierarchical clustering which is used to form a hierarchy of clusters. It is one of the types of clustering algorithms in machine learning. Unlike the K-Means and DBSCAN clustering algorithms, it is not very common but it is very efficient to form a hierarchy of clusters. If you've never used the agglomerative clustering algorithm before, this article is for you. In this article, I'll give you an introduction to agglomerative clustering in machine learning and its implementation using Python.\""
      ]
     },
     "execution_count": 26,
     "metadata": {},
     "output_type": "execute_result"
    }
   ],
   "source": [
    "df[\"Article\"][22]"
   ]
  },
  {
   "cell_type": "code",
   "execution_count": 24,
   "id": "b7eaed2b-24db-4657-9f71-89619ab5825e",
   "metadata": {},
   "outputs": [
    {
     "data": {
      "text/plain": [
       "'BIRCH Clustering in Machine Learning, Clustering Algorithms in Machine Learning, DBSCAN Clustering in Machine Learning, K-Means Clustering in Machine Learning'"
      ]
     },
     "execution_count": 24,
     "metadata": {},
     "output_type": "execute_result"
    }
   ],
   "source": [
    "df[\"Recommended Articles\"][22]"
   ]
  },
  {
   "cell_type": "code",
   "execution_count": 27,
   "id": "9588444a-f585-4b7c-99b1-728e8a8781ce",
   "metadata": {},
   "outputs": [
    {
     "data": {
      "text/plain": [
       "'Language detection is a natural language processing task where we need to identify the language of a text or document. Using machine learning for language detection was a difficult task a few years ago because there was not a lot of data on languages, but with the availability of data with ease, several powerful machine learning models are already available for language detection. So, if you want to learn how to train a machine learning model for language detection, then this article is for you. In this article, I will walk you through the task of language detection with machine learning using Python.'"
      ]
     },
     "execution_count": 27,
     "metadata": {},
     "output_type": "execute_result"
    }
   ],
   "source": [
    "df[\"Article\"][14]"
   ]
  },
  {
   "cell_type": "code",
   "execution_count": 25,
   "id": "b9a6c163-a119-4931-89eb-bef628dbfe60",
   "metadata": {},
   "outputs": [
    {
     "data": {
      "text/plain": [
       "'Use Cases of Different Machine Learning Algorithms, Best Resources to Learn Python, Best Books to Learn Deep Learning, Multinomial Naive Bayes in Machine Learning'"
      ]
     },
     "execution_count": 25,
     "metadata": {},
     "output_type": "execute_result"
    }
   ],
   "source": [
    "df[\"Recommended Articles\"][14]"
   ]
  },
  {
   "cell_type": "markdown",
   "id": "f574d801-365c-4ba4-a43c-0ad55b6c9667",
   "metadata": {},
   "source": [
    "## Conclusion \n",
    "We built a simple yet effective content-based article recommender using TF-IDF and cosine similarity. It converts articles to vectors and recommends the most similar titles, showing that lightweight NLP can deliver relevant suggestions."
   ]
  },
  {
   "cell_type": "code",
   "execution_count": null,
   "id": "895c07a5-c795-47d8-bd73-48b64a02f203",
   "metadata": {},
   "outputs": [],
   "source": []
  }
 ],
 "metadata": {
  "kernelspec": {
   "display_name": "Python 3 (ipykernel)",
   "language": "python",
   "name": "python3"
  },
  "language_info": {
   "codemirror_mode": {
    "name": "ipython",
    "version": 3
   },
   "file_extension": ".py",
   "mimetype": "text/x-python",
   "name": "python",
   "nbconvert_exporter": "python",
   "pygments_lexer": "ipython3",
   "version": "3.12.11"
  }
 },
 "nbformat": 4,
 "nbformat_minor": 5
}
