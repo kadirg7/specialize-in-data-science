{
 "cells": [
  {
   "cell_type": "markdown",
   "id": "b4c35a1c-5f4e-4740-8764-f5008ca8a81a",
   "metadata": {},
   "source": [
    "# Amazon Recommendation System\n",
    "\n",
    "Build a simple recommendation system for an Amazon-like store that uses user ratings and item similarity to deliver personalized product suggestions (to improve UX and conversions).\n",
    "\n",
    "[Amazon Recommendation System using Python](https://amanxai.com/2021/03/23/amazon-recommendation-system-using-python/)"
   ]
  },
  {
   "cell_type": "markdown",
   "id": "da002626-a51b-4546-b82c-ed43f60d4ad6",
   "metadata": {},
   "source": [
    "<img src=\"https://uploads-ssl.webflow.com/60f03643ffba6a48a3bda298/6287299a8211a80d33096200_amazon%20banner.png\" width=\"750\">"
   ]
  },
  {
   "cell_type": "code",
   "execution_count": 1,
   "id": "0b5f56ec-97b9-4b7d-94a4-36c3b3b8e605",
   "metadata": {},
   "outputs": [],
   "source": [
    "import numpy as np\n",
    "import pandas as pd"
   ]
  },
  {
   "cell_type": "code",
   "execution_count": 2,
   "id": "d32d2b30-7ea3-49d6-b4cf-3fe78af82263",
   "metadata": {},
   "outputs": [],
   "source": [
    "data = pd.read_csv(\"amazon.csv\")"
   ]
  },
  {
   "cell_type": "code",
   "execution_count": 3,
   "id": "5a7cdaa9-2d64-44c7-9e17-015ba0c189b6",
   "metadata": {},
   "outputs": [
    {
     "data": {
      "text/html": [
       "<div>\n",
       "<style scoped>\n",
       "    .dataframe tbody tr th:only-of-type {\n",
       "        vertical-align: middle;\n",
       "    }\n",
       "\n",
       "    .dataframe tbody tr th {\n",
       "        vertical-align: top;\n",
       "    }\n",
       "\n",
       "    .dataframe thead th {\n",
       "        text-align: right;\n",
       "    }\n",
       "</style>\n",
       "<table border=\"1\" class=\"dataframe\">\n",
       "  <thead>\n",
       "    <tr style=\"text-align: right;\">\n",
       "      <th></th>\n",
       "      <th>AKM1MP6P0OYPR</th>\n",
       "      <th>0132793040</th>\n",
       "      <th>5.0</th>\n",
       "      <th>1365811200</th>\n",
       "    </tr>\n",
       "  </thead>\n",
       "  <tbody>\n",
       "    <tr>\n",
       "      <th>0</th>\n",
       "      <td>A2CX7LUOHB2NDG</td>\n",
       "      <td>0321732944</td>\n",
       "      <td>5.0</td>\n",
       "      <td>1341100800</td>\n",
       "    </tr>\n",
       "    <tr>\n",
       "      <th>1</th>\n",
       "      <td>A2NWSAGRHCP8N5</td>\n",
       "      <td>0439886341</td>\n",
       "      <td>1.0</td>\n",
       "      <td>1367193600</td>\n",
       "    </tr>\n",
       "    <tr>\n",
       "      <th>2</th>\n",
       "      <td>A2WNBOD3WNDNKT</td>\n",
       "      <td>0439886341</td>\n",
       "      <td>3.0</td>\n",
       "      <td>1374451200</td>\n",
       "    </tr>\n",
       "    <tr>\n",
       "      <th>3</th>\n",
       "      <td>A1GI0U4ZRJA8WN</td>\n",
       "      <td>0439886341</td>\n",
       "      <td>1.0</td>\n",
       "      <td>1334707200</td>\n",
       "    </tr>\n",
       "    <tr>\n",
       "      <th>4</th>\n",
       "      <td>A1QGNMC6O1VW39</td>\n",
       "      <td>0511189877</td>\n",
       "      <td>5.0</td>\n",
       "      <td>1397433600</td>\n",
       "    </tr>\n",
       "  </tbody>\n",
       "</table>\n",
       "</div>"
      ],
      "text/plain": [
       "    AKM1MP6P0OYPR  0132793040  5.0  1365811200\n",
       "0  A2CX7LUOHB2NDG  0321732944  5.0  1341100800\n",
       "1  A2NWSAGRHCP8N5  0439886341  1.0  1367193600\n",
       "2  A2WNBOD3WNDNKT  0439886341  3.0  1374451200\n",
       "3  A1GI0U4ZRJA8WN  0439886341  1.0  1334707200\n",
       "4  A1QGNMC6O1VW39  0511189877  5.0  1397433600"
      ]
     },
     "execution_count": 3,
     "metadata": {},
     "output_type": "execute_result"
    }
   ],
   "source": [
    "data.head()"
   ]
  },
  {
   "cell_type": "code",
   "execution_count": 4,
   "id": "b067f3a3-e0bf-4b34-b2e1-170196462c38",
   "metadata": {},
   "outputs": [],
   "source": [
    "data.columns = ['user_id', 'product_id','ratings','timestamp']"
   ]
  },
  {
   "cell_type": "code",
   "execution_count": 5,
   "id": "0aeb4a10-8fa3-48e9-abd3-5c028758b29b",
   "metadata": {},
   "outputs": [
    {
     "data": {
      "text/plain": [
       "(7824481, 4)"
      ]
     },
     "execution_count": 5,
     "metadata": {},
     "output_type": "execute_result"
    }
   ],
   "source": [
    "data.shape"
   ]
  },
  {
   "cell_type": "code",
   "execution_count": 6,
   "id": "7bb4d536-ee2c-414d-a6af-2fe0f0a578c0",
   "metadata": {},
   "outputs": [
    {
     "name": "stdout",
     "output_type": "stream",
     "text": [
      "<class 'pandas.core.frame.DataFrame'>\n",
      "RangeIndex: 7824481 entries, 0 to 7824480\n",
      "Data columns (total 4 columns):\n",
      " #   Column      Dtype  \n",
      "---  ------      -----  \n",
      " 0   user_id     object \n",
      " 1   product_id  object \n",
      " 2   ratings     float64\n",
      " 3   timestamp   int64  \n",
      "dtypes: float64(1), int64(1), object(2)\n",
      "memory usage: 238.8+ MB\n"
     ]
    }
   ],
   "source": [
    "data.info()"
   ]
  },
  {
   "cell_type": "code",
   "execution_count": 7,
   "id": "eaa5ebd8-5088-4a49-b38a-69fee30acea2",
   "metadata": {},
   "outputs": [
    {
     "data": {
      "text/plain": [
       "user_id       0\n",
       "product_id    0\n",
       "ratings       0\n",
       "timestamp     0\n",
       "dtype: int64"
      ]
     },
     "execution_count": 7,
     "metadata": {},
     "output_type": "execute_result"
    }
   ],
   "source": [
    "data.isnull().sum()"
   ]
  },
  {
   "cell_type": "code",
   "execution_count": 8,
   "id": "99eb6ff9-7f55-4fd1-90ce-01a148d0035a",
   "metadata": {},
   "outputs": [],
   "source": [
    "df = data[:int(len(data) * .1)] # Veri büyük olduğu için  datanın  ilk  %10 nunu alıyoruz "
   ]
  },
  {
   "cell_type": "code",
   "execution_count": 9,
   "id": "ecef66ea-4785-41ec-b7d3-e64d45aaea79",
   "metadata": {},
   "outputs": [
    {
     "data": {
      "text/plain": [
       "(7824481, 4)"
      ]
     },
     "execution_count": 9,
     "metadata": {},
     "output_type": "execute_result"
    }
   ],
   "source": [
    "data.shape"
   ]
  },
  {
   "cell_type": "code",
   "execution_count": 10,
   "id": "7c291cb8-dd7d-49ee-93c1-354efb718719",
   "metadata": {},
   "outputs": [],
   "source": [
    "counts = df['user_id'].value_counts()\n",
    "# Kullanıcının kaç değerlendirme  yaptığına bakıyoruz ."
   ]
  },
  {
   "cell_type": "code",
   "execution_count": 11,
   "id": "5ffc49ca-7843-4901-a312-4fe641ec35ef",
   "metadata": {},
   "outputs": [],
   "source": [
    "data = df[df['user_id'].isin(counts[counts >= 50].index)]\n",
    "# En az 50 değerlendirme yapan kullanıcıların verilerini filtreler."
   ]
  },
  {
   "cell_type": "code",
   "execution_count": 12,
   "id": "81ef24df-a347-469e-8ceb-07b5ec494342",
   "metadata": {},
   "outputs": [
    {
     "data": {
      "text/plain": [
       "product_id\n",
       "B000068IGI    5.0\n",
       "B00006IJO4    5.0\n",
       "B00006JI6T    5.0\n",
       "B0001CNKCM    5.0\n",
       "B000816XI4    5.0\n",
       "             ... \n",
       "B00005QWZ7    1.0\n",
       "B00009W5QR    1.0\n",
       "B00005RKO5    1.0\n",
       "B00005UV2R    1.0\n",
       "1400532655    1.0\n",
       "Name: ratings, Length: 2207, dtype: float64"
      ]
     },
     "execution_count": 12,
     "metadata": {},
     "output_type": "execute_result"
    }
   ],
   "source": [
    "data.groupby('product_id')['ratings'].mean().sort_values(ascending=False)\n",
    "# Her ürün için ortalama puanı hesaplıyoruz ve yüksekten düşüğe sıralıyoruz "
   ]
  },
  {
   "cell_type": "code",
   "execution_count": 13,
   "id": "44b6c983-bde3-4e15-a975-4827a824f6e9",
   "metadata": {},
   "outputs": [],
   "source": [
    "final_ratings = data.pivot(index='user_id', columns='product_id', values='ratings').fillna(0)\n",
    "# Satırlarda kullanıcılar, sütunlarda ürünler olacak şekilde kullanıcı-ürün puan matrisi oluşturur.\n",
    "# Eksik puanları 0 ile doldurur (matrisi tam yapmak için)."
   ]
  },
  {
   "cell_type": "code",
   "execution_count": null,
   "id": "90643247-04fd-4e46-a031-3e79f68e48e7",
   "metadata": {},
   "outputs": [],
   "source": []
  },
  {
   "cell_type": "code",
   "execution_count": 14,
   "id": "83f2b273-2a18-438d-885e-3a8fade3a53b",
   "metadata": {},
   "outputs": [],
   "source": [
    "num_of_ratings = np.count_nonzero(final_ratings)\n",
    "# final_ratings matrisinde kaç tane sıfır olmayan puan (yani gerçek değerlendirme) olduğunu sayar."
   ]
  },
  {
   "cell_type": "code",
   "execution_count": 15,
   "id": "2fd10d53-11aa-4d6e-a7df-f7835863529f",
   "metadata": {},
   "outputs": [],
   "source": [
    "possible_ratings = final_ratings.shape[0] * final_ratings.shape[1]\n",
    "# Matrisin toplam hücre sayısını bulur (kullanıcı sayısı × ürün sayısı = olası tüm değerlendirmeler)."
   ]
  },
  {
   "cell_type": "code",
   "execution_count": 16,
   "id": "aaaff99d-8867-49e0-b7f1-e7ac39cf3de6",
   "metadata": {},
   "outputs": [],
   "source": [
    "density = (num_of_ratings / possible_ratings)\n",
    "# Gerçek yapılan değerlendirmelerin oranını hesaplar."
   ]
  },
  {
   "cell_type": "code",
   "execution_count": 17,
   "id": "1b871aec-8c42-4b40-89b9-f8b176a185a3",
   "metadata": {},
   "outputs": [],
   "source": [
    "density *= 100 #ORanı % cinsine cevirdik"
   ]
  },
  {
   "cell_type": "code",
   "execution_count": 18,
   "id": "e34e9eb7-8463-44a5-90ca-9e4443335c96",
   "metadata": {},
   "outputs": [],
   "source": [
    "final_ratings_T = final_ratings.transpose()\n",
    "# Matrisi ters çevirirdik . Böylece ürünleri satır , kullanıcılıarı sütun yaptık"
   ]
  },
  {
   "cell_type": "code",
   "execution_count": null,
   "id": "de903aaa-eb19-4a2b-9606-b842c3bd0ff7",
   "metadata": {},
   "outputs": [],
   "source": []
  },
  {
   "cell_type": "code",
   "execution_count": 19,
   "id": "8729d12a-3ad8-43ff-bd8c-2b3e624f5676",
   "metadata": {},
   "outputs": [],
   "source": [
    "grouped = data.groupby('product_id').agg({'user_id': 'count'}).reset_index()\n",
    "# Her ürün için kaç farklı kullancı var onu bulduk "
   ]
  },
  {
   "cell_type": "code",
   "execution_count": 20,
   "id": "08351442-588e-41b7-8972-dcfd7834553e",
   "metadata": {},
   "outputs": [],
   "source": [
    "grouped.rename(columns={'user_id': 'score'}, inplace=True)\n",
    "# Bu sayım sütunun adını score yaptık"
   ]
  },
  {
   "cell_type": "code",
   "execution_count": 21,
   "id": "e8c67ea6-23aa-4bf6-8822-eaf16470e03a",
   "metadata": {},
   "outputs": [],
   "source": [
    "training_data = grouped.sort_values(['score', 'product_id'], ascending=[0, 1])\n",
    "# Ürünleri önce 'score' yüksekten düşüğe, eşitlikte 'product_id' artan sırada sıralar."
   ]
  },
  {
   "cell_type": "code",
   "execution_count": 22,
   "id": "74fad704-ca86-483a-b70e-3e127688eeb2",
   "metadata": {},
   "outputs": [],
   "source": [
    "training_data['Rank'] = training_data['score'].rank(ascending=0, method='first')\n",
    "# Skoru büyük olan ürüne daha iyi (küçük) sıra numarası verir; eşitlikte ilk gelen önce."
   ]
  },
  {
   "cell_type": "code",
   "execution_count": 23,
   "id": "5086d1ee-e814-4164-ac4e-cd219e6e8b1b",
   "metadata": {},
   "outputs": [],
   "source": [
    "recommendations = training_data.head()"
   ]
  },
  {
   "cell_type": "code",
   "execution_count": 24,
   "id": "ab9f0146-206c-4ad9-8686-4ea1bc8a439f",
   "metadata": {},
   "outputs": [],
   "source": [
    "def recommend(id):     \n",
    "    recommend_products = recommendations # hazırlanmış tabloyu referans aldık\n",
    "    recommend_products['user_id'] = id    # Sonuc tablsosunda önerilerin kime ait old yazdık \n",
    "    column = recommend_products.columns.tolist()  # sütun adlarını listeye cevirdik\n",
    "    column = column[-1:] + column[:-1]       # son sütun öne alındı\n",
    "    recommend_products = recommend_products[column]   #sütunları yeni sıraya göre diziyoruz. \n",
    "    return recommend_products "
   ]
  },
  {
   "cell_type": "code",
   "execution_count": 25,
   "id": "0c786526-c478-4707-b805-7d678c009fc0",
   "metadata": {},
   "outputs": [
    {
     "name": "stdout",
     "output_type": "stream",
     "text": [
      "      user_id  product_id  score  Rank\n",
      "113        11  B00004SB92      6   1.0\n",
      "1099       11  B00008OE6I      5   2.0\n",
      "368        11  B00005AW1H      4   3.0\n",
      "612        11  B0000645C9      4   4.0\n",
      "976        11  B00007KDVI      4   5.0\n"
     ]
    },
    {
     "name": "stderr",
     "output_type": "stream",
     "text": [
      "C:\\Users\\asus\\AppData\\Local\\Temp\\ipykernel_4028\\689612046.py:3: SettingWithCopyWarning: \n",
      "A value is trying to be set on a copy of a slice from a DataFrame.\n",
      "Try using .loc[row_indexer,col_indexer] = value instead\n",
      "\n",
      "See the caveats in the documentation: https://pandas.pydata.org/pandas-docs/stable/user_guide/indexing.html#returning-a-view-versus-a-copy\n",
      "  recommend_products['user_id'] = id    # Sonuc tablsosunda önerilerin kime ait old yazdık\n"
     ]
    }
   ],
   "source": [
    "print(recommend(11))"
   ]
  },
  {
   "cell_type": "markdown",
   "id": "b1f667ff-01ef-4db1-8821-07cc3df717b1",
   "metadata": {},
   "source": [
    "## Conclusiom\n",
    "This project successfully built a simple Amazon-like recommendation system using Python, demonstrating how user ratings and item similarities can be used to generate personalized product suggestions."
   ]
  },
  {
   "cell_type": "code",
   "execution_count": null,
   "id": "8429b5a7-984f-4a63-8a42-09ec546ad4e0",
   "metadata": {},
   "outputs": [],
   "source": []
  }
 ],
 "metadata": {
  "kernelspec": {
   "display_name": "Python 3 (ipykernel)",
   "language": "python",
   "name": "python3"
  },
  "language_info": {
   "codemirror_mode": {
    "name": "ipython",
    "version": 3
   },
   "file_extension": ".py",
   "mimetype": "text/x-python",
   "name": "python",
   "nbconvert_exporter": "python",
   "pygments_lexer": "ipython3",
   "version": "3.12.11"
  }
 },
 "nbformat": 4,
 "nbformat_minor": 5
}
